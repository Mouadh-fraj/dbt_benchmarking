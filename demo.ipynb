{
 "cells": [
  {
   "cell_type": "markdown",
   "id": "0c989f41",
   "metadata": {
    "slideshow": {
     "slide_type": "slide"
    }
   },
   "source": [
    "![Title](images/title-page.png)"
   ]
  },
  {
   "cell_type": "markdown",
   "id": "f90ad24f-5035-4c5d-81e4-a81d9dff1e9a",
   "metadata": {
    "slideshow": {
     "slide_type": "slide"
    }
   },
   "source": [
    "![Title](images/title-qr.png)"
   ]
  },
  {
   "cell_type": "markdown",
   "id": "ed161285-5c6c-41de-a4ad-685a5de5ba0e",
   "metadata": {},
   "source": [
    "# What is the TPC?\n",
    "### The TPC is a non-profit corporation focused on developing data-centric benchmark standards and disseminating objective, verifiable data to the industry.\n",
    "\n",
    "# What is TPC-DI?\n",
    "### The TPC-DI benchmark combines and transforms data extracted from an On-Line Transaction Processing (OTLP) system along with other sources of data, and loads it into a data warehouse."
   ]
  },
  {
   "cell_type": "markdown",
   "id": "87a9e518-484a-4f18-80d4-4ae43c72312a",
   "metadata": {},
   "source": [
    "![ETL Diagram](images/tpc-di-etl-diagram.png)"
   ]
  },
  {
   "cell_type": "markdown",
   "id": "ba7f45e6-13c4-49f2-9391-35ee7b3beaaf",
   "metadata": {},
   "source": [
    "![ETL Diagram](images/tpc-di-logical-model.png)"
   ]
  },
  {
   "cell_type": "markdown",
   "metadata": {},
   "source": [
    "# First we generate the source files.\n",
    "### The JAR file is dated, so we have to use a 1.8 JDK."
   ]
  },
  {
   "cell_type": "code",
   "execution_count": 12,
   "metadata": {},
   "outputs": [
    {
     "name": "stdout",
     "output_type": "stream",
     "text": [
      "usage: DIGen\n",
      " -h                   print this message\n",
      " -jvm <JVM options>   JVM options. E.g. -jvm \"-Xms1g -Xmx2g\"\n",
      " -o <directory>       Specify output directory.  Default is output.\n",
      " -sf <sf>             Scale factor.  Default value is 5. (range: 3 -\n",
      "                      2147483647\n",
      " -v                   print DIGen version\n"
     ]
    }
   ],
   "source": [
    "!jenv local 1.8\n",
    "!java -jar ~/dev/Tools/DIGen.jar --help"
   ]
  },
  {
   "cell_type": "code",
   "execution_count": 22,
   "metadata": {},
   "outputs": [
    {
     "name": "stdout",
     "output_type": "stream",
     "text": [
      "/Users/stewartbryson/dev/tpcdi-output\n",
      "########################################################################################################################\n",
      "                                                  PDGF v2.5_#1343_b4177\n",
      "                                            Parallel Data Generation Framework\n",
      "                (c)bankmark UG (haftungsbeschraenkt), Frank M., Danisch M., Rabl T. http://www.bankmark.de\n",
      "########################################################################################################################\n",
      "                                                   License information\n",
      "                            The Software is provided to you as part of the TPC Benchmark DI. \n",
      " When using this software you must agree to the license provided in LICENSE.TXT of this package. Use is restricted to TPC\n",
      "DI benchmarking purposes as specified in LICENSE.TXT. If you would like to use the software for other purposes, you must\n",
      "contact bankmark UG (haftungsbeschraenkt) (http://www.bankmark.de) to purchase a fully licensed copy of the Software.\n",
      "########################################################################################################################\n",
      "for a command overview start with commandline parameter: -help\n",
      "or type \"help\" in the built in shell: PDGF:> \n",
      "\n",
      "Set closeWhenDone from: false to: true\n",
      "Set project main scale factor from -notSet- to 5000.0\n",
      "Set default output path to:\"/Users/stewartbryson/dev/tpcdi-output/\"\n",
      "Loading configuration files ...\n",
      "23: XML <property name=\"SF\">5000.0 was already defined in config file or is manually overridden by a user set commandline argument. Currently assigned value: '5000.0' and will remain unchanged at this value\n",
      "Registered Generation event listner: tpc.di.output.AuditTotalRecordsSummaryWriter\n",
      "Loading successful.\n",
      "All required configuration files are loaded. You may start the generation process.\n",
      "Initializing system...\n",
      "Node 1 Worker count was not specified. Detected 8 available processors and start now same amount of workers\n",
      "FinWireFinBlackBox.initialize() LAST UPDATE ID: 202\n",
      "DailyMarketBlackBox.initialize() LAST UPDATE ID: 733\n",
      "initializing WatchHistoryBlackBox of table: 'WatchHistory'... done\n",
      "Cloning data structures for parallelization...\n",
      "Clone time 0h:00m:00s:151ms\n",
      "initialized 0h:00m:00s:329ms\n",
      "Starting data generation proccess...\n",
      "Startuptime: 0h:00m:00s:964ms\n",
      "FileChannelProvider is: pdgf.util.caching.fileWriter.OutputFileWriter$DefaultFileChannelProvider\n",
      "\n",
      "generating 1/16 \"StatusType\"\t  rows: 1-6 of 6\n",
      "\n",
      "PDGF:> finished  1/16 \"StatusType\"\t  in: 0h:00m:00s:007ms total size: 3.6 KiB average speed: 519.7 KiB/s\n",
      "\n",
      "generating 2/16 \"TaxRate\"\t  rows: 1-320 of 320\n",
      "finished  2/16 \"TaxRate\"\t  in: 0h:00m:00s:004ms total size: 16.7 KiB average speed: 4.1 MiB/s\n",
      "\n",
      "generating 3/16 \"Date\"\t  rows: 1-25933 of 25933\n",
      "finished  3/16 \"Date\"\t  in: 0h:00m:00s:389ms total size: 3.3 MiB average speed: 8.6 MiB/s\n",
      "\n",
      "generating 4/16 \"Time\"\t  rows: 1-86400 of 86400\n",
      "finished  4/16 \"Time\"\t  in: 0h:00m:00s:243ms total size: 4.6 MiB average speed: 18.8 MiB/s\n",
      "\n",
      "generating 5/16 \"BatchDate\"\t  update: historical\n",
      "finished  5/16 \"BatchDate\"\t  in: 0h:00m:00s:003ms total size: 88 B average speed: 28.6 KiB/s\n",
      "\n",
      "generating 6/16 \"HR\"\t  rows: 1-25000 of 25000\n",
      "finished  6/16 \"HR\"\t  in: 0h:00m:00s:044ms total size: 1.9 MiB average speed: 43.7 MiB/s\n",
      "\n",
      "generating 7/16 \"CustomerMgmt\"\t  update: historical\n",
      "finished  7/16 \"CustomerMgmt\"\t  in: 0h:00m:00s:356ms total size: 14.9 MiB average speed: 41.9 MiB/s\n",
      "\n",
      "generating 8/16 \"Customer\"\t  update: 431/432\n",
      "finished  8/16 \"Customer\"\t  in: 0h:00m:00s:004ms total size: 10.6 KiB average speed: 2.6 MiB/s\n",
      "\n",
      "generating 9/16 \"Account\"\t  update: 431/432\n",
      "finished  9/16 \"Account\"\t  in: 0h:00m:00s:003ms total size: 7.2 KiB average speed: 2.3 MiB/s\n",
      "\n",
      "generating 10/16 \"Prospect\"\t  update: historical\n",
      "finished  10/16 \"Prospect\"\t  in: 0h:00m:00s:142ms total size: 14.9 MiB average speed: 104.8 MiB/s\n",
      "\n",
      "generating 11/16 \"Industry\"\t  rows: 1-102 of 102\n",
      "finished  11/16 \"Industry\"\t  in: 0h:00m:00s:001ms total size: 2.7 KiB average speed: 2.6 MiB/s\n",
      "\n",
      "generating 12/16 \"FINWIRE\"\t  update: historical\n",
      "finished  12/16 \"FINWIRE\"\t  in: 0h:00m:00s:517ms total size: 44.2 MiB average speed: 85.5 MiB/s\n",
      "\n",
      "generating 13/16 \"DailyMarket\"\t  update: historical\n",
      "finished  13/16 \"DailyMarket\"\t  in: 0h:00m:01s:201ms total size: 136.1 MiB average speed: 113.3 MiB/s\n",
      "\n",
      "generating 14/16 \"WatchHistory\"\t  update: historical\n",
      "finished  14/16 \"WatchHistory\"\t  in: 0h:00m:00s:711ms total size: 66.9 MiB average speed: 94.1 MiB/s\n",
      "\n",
      "generating 15/16 \"TradeSource\"\t  update: historical\n",
      "finished  15/16 \"TradeSource\"\t  in: 0h:00m:02s:078ms total size: 177.0 MiB average speed: 85.2 MiB/s\n",
      "\n",
      "generating 16/16 \"TradeType\"\t  rows: 1-5 of 5\n",
      "All work done\n",
      "Data generation finished successfully\n",
      "AuditTotalRecordsSummaryWriter - TotalRecords for Batch1: 7804509\n",
      "AuditTotalRecordsSummaryWriter - TotalRecords for Batch2: 33380\n",
      "AuditTotalRecordsSummaryWriter - TotalRecords for Batch3: 33455\n",
      "AuditTotalRecordsSummaryWriter - TotalRecords all Batches: 7871344 1376590.42 records/second\n",
      "Statistics  \n",
      "=========\n",
      "Overall time\t0h:00m:05s:717ms\n",
      "Generated\t463.9 MiB\n",
      "Speed\t\t81.1 MiB/s\n",
      "\n",
      "DIGen completed successfully.\n"
     ]
    }
   ],
   "source": [
    "!rm -rf ~/dev/tpcdi-output\n",
    "!mkdir -p ~/dev/tpcdi-output\n",
    "!cd ~/dev/Tools && java -jar ~/dev/Tools/DIGen.jar -o ~/dev/tpcdi-output -sf 5"
   ]
  },
  {
   "cell_type": "markdown",
   "id": "442d9973-dcdb-491f-82d2-0a1ec2d133aa",
   "metadata": {
    "tags": []
   },
   "source": [
    "# When we search on Google for \"dbt dynamic tables\":\n",
    "\n",
    "![Google Search](images/dbt-dynamic-tables.png)"
   ]
  },
  {
   "cell_type": "markdown",
   "id": "c73ac995-dcdf-4d7d-96d8-4f23eafc16c9",
   "metadata": {},
   "source": [
    "# Is it as simple as this?\n",
    "\n",
    "![Conflict](images/refresh-conflict.png)"
   ]
  },
  {
   "cell_type": "markdown",
   "id": "96e4236c-46da-4b50-aa37-225df6ff9f7f",
   "metadata": {},
   "source": [
    "# Remember, there's more to dbt than just scheduling refresh jobs. There's a DAG to consider.\n",
    "\n",
    "# Dynamic Tables need to be (re)created in the correct order. This can become very complex as the number of tables and dependencies increases."
   ]
  },
  {
   "cell_type": "code",
   "execution_count": 2,
   "id": "5b6de585-2299-4039-bce3-cf27ad5290d2",
   "metadata": {
    "tags": []
   },
   "outputs": [
    {
     "name": "stdout",
     "output_type": "stream",
     "text": [
      "\u001b[0m16:40:18  Running with dbt=1.6.6\n",
      "\u001b[0m16:40:18  Registered adapter: snowflake=1.6.4\n",
      "\u001b[0m16:40:18  Unable to do partial parsing because of a version mismatch\n",
      "\u001b[0m16:40:19  Found 45 models, 17 sources, 0 exposures, 0 metrics, 489 macros, 0 groups, 0 semantic models\n",
      "\u001b[0m16:40:19  \n",
      "\u001b[0m16:40:20  Concurrency: 20 threads (target='dev')\n",
      "\u001b[0m16:40:20  \n",
      "\u001b[0m16:40:20  Building catalog\n",
      "\u001b[0m16:40:26  Catalog written to /Users/stewartbryson/Source/dbt-tpcdi/target/catalog.json\n",
      "\u001b[0m16:40:27  Running with dbt=1.6.6\n",
      "Serving docs at 8080\n",
      "To access from your browser, navigate to: http://localhost:8080\n",
      "\n",
      "\n",
      "\n",
      "Press Ctrl+C to exit.\n",
      "127.0.0.1 - - [27/Nov/2023 11:40:28] \"GET / HTTP/1.1\" 200 -\n",
      "127.0.0.1 - - [27/Nov/2023 11:40:28] \"GET /manifest.json?cb=1701103228480 HTTP/1.1\" 200 -\n",
      "127.0.0.1 - - [27/Nov/2023 11:40:28] \"GET /catalog.json?cb=1701103228480 HTTP/1.1\" 200 -\n",
      "^C\n",
      "\u001b[0m16:41:38  Encountered an error:\n",
      "\n",
      "\u001b[0m16:41:38  Traceback (most recent call last):\n",
      "  File \"/opt/homebrew/Caskroom/miniconda/base/envs/tpcdi/lib/python3.8/site-packages/dbt/cli/requires.py\", line 87, in wrapper\n",
      "    result, success = func(*args, **kwargs)\n",
      "  File \"/opt/homebrew/Caskroom/miniconda/base/envs/tpcdi/lib/python3.8/site-packages/dbt/cli/requires.py\", line 72, in wrapper\n",
      "    return func(*args, **kwargs)\n",
      "  File \"/opt/homebrew/Caskroom/miniconda/base/envs/tpcdi/lib/python3.8/site-packages/dbt/cli/requires.py\", line 143, in wrapper\n",
      "    return func(*args, **kwargs)\n",
      "  File \"/opt/homebrew/Caskroom/miniconda/base/envs/tpcdi/lib/python3.8/site-packages/dbt/cli/requires.py\", line 172, in wrapper\n",
      "    return func(*args, **kwargs)\n",
      "  File \"/opt/homebrew/Caskroom/miniconda/base/envs/tpcdi/lib/python3.8/site-packages/dbt/cli/requires.py\", line 219, in wrapper\n",
      "    return func(*args, **kwargs)\n",
      "  File \"/opt/homebrew/Caskroom/miniconda/base/envs/tpcdi/lib/python3.8/site-packages/dbt/cli/main.py\", line 320, in docs_serve\n",
      "    results = task.run()\n",
      "  File \"/opt/homebrew/Caskroom/miniconda/base/envs/tpcdi/lib/python3.8/site-packages/dbt/task/serve.py\", line 28, in run\n",
      "    httpd.serve_forever()\n",
      "  File \"/opt/homebrew/Caskroom/miniconda/base/envs/tpcdi/lib/python3.8/socketserver.py\", line 232, in serve_forever\n",
      "    ready = selector.select(poll_interval)\n",
      "  File \"/opt/homebrew/Caskroom/miniconda/base/envs/tpcdi/lib/python3.8/selectors.py\", line 415, in select\n",
      "    fd_event_list = self._selector.poll(timeout)\n",
      "KeyboardInterrupt\n",
      "\n"
     ]
    }
   ],
   "source": [
    "!dbt docs generate\n",
    "!dbt docs serve"
   ]
  },
  {
   "cell_type": "markdown",
   "id": "ff43cb2d-3022-404a-aa5d-ccb1b8862492",
   "metadata": {},
   "source": [
    "# Let's take a look at a standard dbt project, using the TPC-DI dataset.\n",
    "\n",
    "# I'll just pull the `dbt_project.yml` file from another branch:"
   ]
  },
  {
   "cell_type": "code",
   "execution_count": 27,
   "id": "4c0e0205-8084-4d6e-ae84-aa4ac04ec006",
   "metadata": {
    "tags": []
   },
   "outputs": [
    {
     "name": "stdout",
     "output_type": "stream",
     "text": [
      "\u001b[0m23:19:20  Running with dbt=1.6.6\n",
      "\u001b[0m23:19:20  Registered adapter: snowflake=1.6.4\n",
      "\u001b[0m23:19:20  Found 45 models, 1 test, 17 sources, 0 exposures, 0 metrics, 489 macros, 0 groups, 0 semantic models\n",
      "\u001b[0m23:19:20  \n",
      "\u001b[0m23:19:22  Concurrency: 20 threads (target='dev')\n",
      "\u001b[0m23:19:22  \n",
      "\u001b[0m23:19:22  1 of 45 START sql table model dl_bronze.brokerage_cash_transaction ............. [RUN]\n",
      "\u001b[0m23:19:22  2 of 45 START sql table model dl_bronze.brokerage_daily_market ................. [RUN]\n",
      "\u001b[0m23:19:22  3 of 45 START sql table model dl_bronze.brokerage_holding_history .............. [RUN]\n",
      "\u001b[0m23:19:22  4 of 45 START sql table model dl_bronze.brokerage_trade ........................ [RUN]\n",
      "\u001b[0m23:19:22  5 of 45 START sql table model dl_bronze.brokerage_trade_history ................ [RUN]\n",
      "\u001b[0m23:19:22  6 of 45 START sql table model dl_bronze.brokerage_watch_history ................ [RUN]\n",
      "\u001b[0m23:19:22  7 of 45 START sql table model dl_bronze.crm_customer_mgmt ...................... [RUN]\n",
      "\u001b[0m23:19:22  8 of 45 START sql table model dl_bronze.finwire_company ........................ [RUN]\n",
      "\u001b[0m23:19:22  9 of 45 START sql table model dl_bronze.finwire_financial ...................... [RUN]\n",
      "\u001b[0m23:19:22  10 of 45 START sql table model dl_bronze.finwire_security ...................... [RUN]\n",
      "\u001b[0m23:19:22  11 of 45 START sql table model dl_bronze.hr_employee ........................... [RUN]\n",
      "\u001b[0m23:19:22  12 of 45 START sql table model dl_bronze.reference_date ........................ [RUN]\n",
      "\u001b[0m23:19:22  13 of 45 START sql table model dl_bronze.reference_industry .................... [RUN]\n",
      "\u001b[0m23:19:22  14 of 45 START sql table model dl_bronze.reference_status_type ................. [RUN]\n",
      "\u001b[0m23:19:22  15 of 45 START sql table model dl_bronze.reference_tax_rate .................... [RUN]\n",
      "\u001b[0m23:19:22  16 of 45 START sql table model dl_bronze.reference_trade_type .................. [RUN]\n",
      "\u001b[0m23:19:22  17 of 45 START sql table model dl_bronze.syndicated_prospect ................... [RUN]\n",
      "\u001b[0m23:19:23  16 of 45 OK created sql table model dl_bronze.reference_trade_type ............. [\u001b[32mSUCCESS 1\u001b[0m in 1.39s]\n",
      "\u001b[0m23:19:23  15 of 45 OK created sql table model dl_bronze.reference_tax_rate ............... [\u001b[32mSUCCESS 1\u001b[0m in 1.54s]\n",
      "\u001b[0m23:19:23  11 of 45 OK created sql table model dl_bronze.hr_employee ...................... [\u001b[32mSUCCESS 1\u001b[0m in 1.67s]\n",
      "\u001b[0m23:19:23  18 of 45 START sql table model dl_silver.employees ............................. [RUN]\n",
      "\u001b[0m23:19:24  13 of 45 OK created sql table model dl_bronze.reference_industry ............... [\u001b[32mSUCCESS 1\u001b[0m in 2.11s]\n",
      "\u001b[0m23:19:24  10 of 45 OK created sql table model dl_bronze.finwire_security ................. [\u001b[32mSUCCESS 1\u001b[0m in 2.21s]\n",
      "\u001b[0m23:19:24  7 of 45 OK created sql table model dl_bronze.crm_customer_mgmt ................. [\u001b[32mSUCCESS 1\u001b[0m in 2.43s]\n",
      "\u001b[0m23:19:24  19 of 45 START sql table model dl_silver.accounts .............................. [RUN]\n",
      "\u001b[0m23:19:24  20 of 45 START sql table model dl_silver.customers ............................. [RUN]\n",
      "\u001b[0m23:19:24  14 of 45 OK created sql table model dl_bronze.reference_status_type ............ [\u001b[32mSUCCESS 1\u001b[0m in 2.82s]\n",
      "\u001b[0m23:19:25  8 of 45 OK created sql table model dl_bronze.finwire_company ................... [\u001b[32mSUCCESS 1\u001b[0m in 3.06s]\n",
      "\u001b[0m23:19:25  21 of 45 START sql table model dl_silver.companies ............................. [RUN]\n",
      "\u001b[0m23:19:25  1 of 45 OK created sql table model dl_bronze.brokerage_cash_transaction ........ [\u001b[32mSUCCESS 1\u001b[0m in 3.27s]\n",
      "\u001b[0m23:19:27  2 of 45 OK created sql table model dl_bronze.brokerage_daily_market ............ [\u001b[32mSUCCESS 1\u001b[0m in 5.09s]\n",
      "\u001b[0m23:19:27  9 of 45 OK created sql table model dl_bronze.finwire_financial ................. [\u001b[32mSUCCESS 1\u001b[0m in 5.07s]\n",
      "\u001b[0m23:19:27  20 of 45 OK created sql table model dl_silver.customers ........................ [\u001b[32mSUCCESS 1\u001b[0m in 2.64s]\n",
      "\u001b[0m23:19:27  22 of 45 START sql table model dl_silver.daily_market .......................... [RUN]\n",
      "\u001b[0m23:19:27  4 of 45 OK created sql table model dl_bronze.brokerage_trade ................... [\u001b[32mSUCCESS 1\u001b[0m in 5.11s]\n",
      "\u001b[0m23:19:27  3 of 45 OK created sql table model dl_bronze.brokerage_holding_history ......... [\u001b[32mSUCCESS 1\u001b[0m in 5.20s]\n",
      "\u001b[0m23:19:27  19 of 45 OK created sql table model dl_silver.accounts ......................... [\u001b[32mSUCCESS 1\u001b[0m in 2.98s]\n",
      "\u001b[0m23:19:27  23 of 45 START sql table model dl_silver.cash_transactions ..................... [RUN]\n",
      "\u001b[0m23:19:28  18 of 45 OK created sql table model dl_silver.employees ........................ [\u001b[32mSUCCESS 1\u001b[0m in 4.21s]\n",
      "\u001b[0m23:19:28  12 of 45 OK created sql table model dl_bronze.reference_date ................... [\u001b[32mSUCCESS 1\u001b[0m in 5.88s]\n",
      "\u001b[0m23:19:28  24 of 45 START sql table model dl_silver.date .................................. [RUN]\n",
      "\u001b[0m23:19:28  25 of 45 START sql table model dl_gold.dim_broker .............................. [RUN]\n",
      "\u001b[0m23:19:28  17 of 45 OK created sql table model dl_bronze.syndicated_prospect .............. [\u001b[32mSUCCESS 1\u001b[0m in 6.37s]\n",
      "\u001b[0m23:19:28  26 of 45 START sql table model dl_gold.dim_customer ............................ [RUN]\n",
      "\u001b[0m23:19:28  21 of 45 OK created sql table model dl_silver.companies ........................ [\u001b[32mSUCCESS 1\u001b[0m in 3.67s]\n",
      "\u001b[0m23:19:28  27 of 45 START sql table model dl_gold.dim_company ............................. [RUN]\n",
      "\u001b[0m23:19:28  28 of 45 START sql table model dl_silver.financials ............................ [RUN]\n",
      "\u001b[0m23:19:28  29 of 45 START sql table model dl_silver.securities ............................ [RUN]\n",
      "\u001b[0m23:19:29  6 of 45 OK created sql table model dl_bronze.brokerage_watch_history ........... [\u001b[32mSUCCESS 1\u001b[0m in 7.12s]\n",
      "\u001b[0m23:19:29  24 of 45 OK created sql table model dl_silver.date ............................. [\u001b[32mSUCCESS 1\u001b[0m in 1.69s]\n",
      "\u001b[0m23:19:29  30 of 45 START sql table model dl_gold.dim_date ................................ [RUN]\n",
      "\u001b[0m23:19:29  5 of 45 OK created sql table model dl_bronze.brokerage_trade_history ........... [\u001b[32mSUCCESS 1\u001b[0m in 7.70s]\n",
      "\u001b[0m23:19:29  31 of 45 START sql table model dl_silver.trades_history ........................ [RUN]\n",
      "\u001b[0m23:19:30  25 of 45 OK created sql table model dl_gold.dim_broker ......................... [\u001b[32mSUCCESS 1\u001b[0m in 2.05s]\n",
      "\u001b[0m23:19:31  27 of 45 OK created sql table model dl_gold.dim_company ........................ [\u001b[32mSUCCESS 1\u001b[0m in 2.10s]\n",
      "\u001b[0m23:19:31  29 of 45 OK created sql table model dl_silver.securities ....................... [\u001b[32mSUCCESS 1\u001b[0m in 2.34s]\n",
      "\u001b[0m23:19:31  32 of 45 START sql table model dl_gold.dim_security ............................ [RUN]\n",
      "\u001b[0m23:19:31  33 of 45 START sql table model dl_silver.watches_history ....................... [RUN]\n",
      "\u001b[0m23:19:31  23 of 45 OK created sql table model dl_silver.cash_transactions ................ [\u001b[32mSUCCESS 1\u001b[0m in 3.74s]\n",
      "\u001b[0m23:19:31  30 of 45 OK created sql table model dl_gold.dim_date ........................... [\u001b[32mSUCCESS 1\u001b[0m in 1.66s]\n",
      "\u001b[0m23:19:31  26 of 45 OK created sql table model dl_gold.dim_customer ....................... [\u001b[32mSUCCESS 1\u001b[0m in 3.17s]\n",
      "\u001b[0m23:19:31  34 of 45 START sql table model dl_gold.dim_account ............................. [RUN]\n",
      "\u001b[0m23:19:32  28 of 45 OK created sql table model dl_silver.financials ....................... [\u001b[32mSUCCESS 1\u001b[0m in 3.95s]\n",
      "\u001b[0m23:19:33  32 of 45 OK created sql table model dl_gold.dim_security ....................... [\u001b[32mSUCCESS 1\u001b[0m in 2.15s]\n",
      "\u001b[0m23:19:34  34 of 45 OK created sql table model dl_gold.dim_account ........................ [\u001b[32mSUCCESS 1\u001b[0m in 3.21s]\n",
      "\u001b[0m23:19:34  35 of 45 START sql table model dl_gold.fact_cash_transactions .................. [RUN]\n",
      "\u001b[0m23:19:36  22 of 45 OK created sql table model dl_silver.daily_market ..................... [\u001b[32mSUCCESS 1\u001b[0m in 9.26s]\n",
      "\u001b[0m23:19:36  36 of 45 START sql table model dl_gold.fact_market_history ..................... [RUN]\n",
      "\u001b[0m23:19:38  35 of 45 OK created sql table model dl_gold.fact_cash_transactions ............. [\u001b[32mSUCCESS 1\u001b[0m in 3.82s]\n",
      "\u001b[0m23:19:38  37 of 45 START sql table model dl_gold.fact_cash_balances ...................... [RUN]\n",
      "\u001b[0m23:19:38  31 of 45 OK created sql table model dl_silver.trades_history ................... [\u001b[32mSUCCESS 1\u001b[0m in 9.02s]\n",
      "\u001b[0m23:19:38  38 of 45 START sql table model dl_gold.dim_trade ............................... [RUN]\n",
      "\u001b[0m23:19:38  39 of 45 START sql table model dl_silver.trades ................................ [RUN]\n",
      "\u001b[0m23:19:41  37 of 45 OK created sql table model dl_gold.fact_cash_balances ................. [\u001b[32mSUCCESS 1\u001b[0m in 3.08s]\n",
      "\u001b[0m23:19:42  33 of 45 OK created sql table model dl_silver.watches_history .................. [\u001b[32mSUCCESS 1\u001b[0m in 11.04s]\n",
      "\u001b[0m23:19:42  40 of 45 START sql table model dl_silver.watches ............................... [RUN]\n",
      "\u001b[0m23:19:42  38 of 45 OK created sql table model dl_gold.dim_trade .......................... [\u001b[32mSUCCESS 1\u001b[0m in 3.50s]\n",
      "\u001b[0m23:19:43  39 of 45 OK created sql table model dl_silver.trades ........................... [\u001b[32mSUCCESS 1\u001b[0m in 4.85s]\n",
      "\u001b[0m23:19:43  41 of 45 START sql table model dl_silver.holdings_history ...................... [RUN]\n",
      "\u001b[0m23:19:43  42 of 45 START sql table model dl_gold.fact_trade .............................. [RUN]\n",
      "\u001b[0m23:19:46  41 of 45 OK created sql table model dl_silver.holdings_history ................. [\u001b[32mSUCCESS 1\u001b[0m in 2.91s]\n",
      "\u001b[0m23:19:46  43 of 45 START sql table model dl_gold.fact_holdings ........................... [RUN]\n",
      "\u001b[0m23:19:50  40 of 45 OK created sql table model dl_silver.watches .......................... [\u001b[32mSUCCESS 1\u001b[0m in 8.23s]\n",
      "\u001b[0m23:19:50  44 of 45 START sql table model dl_gold.fact_watches ............................ [RUN]\n",
      "\u001b[0m23:19:53  42 of 45 OK created sql table model dl_gold.fact_trade ......................... [\u001b[32mSUCCESS 1\u001b[0m in 9.86s]\n",
      "\u001b[0m23:19:53  45 of 45 START test fact_trade__unique_trade ................................... [RUN]\n",
      "\u001b[0m23:19:54  45 of 45 PASS fact_trade__unique_trade ......................................... [\u001b[32mPASS\u001b[0m in 1.00s]\n",
      "\u001b[0m23:19:55  43 of 45 OK created sql table model dl_gold.fact_holdings ...................... [\u001b[32mSUCCESS 1\u001b[0m in 8.55s]\n",
      "\u001b[0m23:19:56  44 of 45 OK created sql table model dl_gold.fact_watches ....................... [\u001b[32mSUCCESS 1\u001b[0m in 5.55s]\n",
      "\u001b[0m23:20:42  36 of 45 OK created sql table model dl_gold.fact_market_history ................ [\u001b[32mSUCCESS 1\u001b[0m in 65.67s]\n",
      "\u001b[0m23:20:42  \n",
      "\u001b[0m23:20:42  Finished running 44 table models, 1 test in 0 hours 1 minutes and 21.20 seconds (81.20s).\n",
      "\u001b[0m23:20:42  \n",
      "\u001b[0m23:20:42  \u001b[32mCompleted successfully\u001b[0m\n",
      "\u001b[0m23:20:42  \n",
      "\u001b[0m23:20:42  Done. PASS=45 WARN=0 ERROR=0 SKIP=0 TOTAL=45\n"
     ]
    }
   ],
   "source": [
    "!git restore --source standard-tables -- dbt_project.yml\n",
    "!dbt build"
   ]
  },
  {
   "cell_type": "markdown",
   "id": "050a1522-b180-4f64-b8ed-f969fb4a2250",
   "metadata": {},
   "source": [
    "# Now we'll restore our original `dbt_project.yml` file."
   ]
  },
  {
   "cell_type": "code",
   "execution_count": 28,
   "id": "831221fb-14ac-44f0-9921-eee5a5d52e65",
   "metadata": {
    "tags": []
   },
   "outputs": [
    {
     "name": "stdout",
     "output_type": "stream",
     "text": [
      "Updated 1 path from the index\n"
     ]
    }
   ],
   "source": [
    "!git checkout dbt_project.yml"
   ]
  },
  {
   "cell_type": "markdown",
   "id": "469f485d-792c-46df-906f-cd09f364d7d0",
   "metadata": {},
   "source": [
    "# We can see all that's required to enable dynamic tables in our `dbt_project.yml` file:\n",
    "\n",
    "```yaml\n",
    "models:\n",
    "  dbt_tpcdi:\n",
    "    example:\n",
    "      +materialized: view\n",
    "    bronze:\n",
    "      +schema: bronze\n",
    "      +materialized: dynamic_table\n",
    "      +snowflake_warehouse: tpcdi_xlarge\n",
    "      +target_lag: '10 minutes'\n",
    "    silver:\n",
    "      +schema: silver\n",
    "      +materialized: dynamic_table\n",
    "      +snowflake_warehouse: tpcdi_xlarge\n",
    "      +target_lag: '10 minutes'\n",
    "    gold:\n",
    "      +schema: gold\n",
    "      +materialized: dynamic_table\n",
    "      +snowflake_warehouse: tpcdi_xlarge\n",
    "      +target_lag: '20 minutes'\n",
    "    work:\n",
    "      +schema: work\n",
    "      +materialized: dynamic_table\n",
    "      +snowflake_warehouse: tpcdi_xlarge\n",
    "      +target_lag: downstream\n",
    "```"
   ]
  },
  {
   "cell_type": "code",
   "execution_count": 29,
   "id": "420db6a7-ce06-4638-a3a5-1ac16aff2fc8",
   "metadata": {
    "tags": []
   },
   "outputs": [
    {
     "name": "stdout",
     "output_type": "stream",
     "text": [
      "\u001b[0m23:23:01  Running with dbt=1.6.6\n",
      "\u001b[0m23:23:01  Registered adapter: snowflake=1.6.4\n",
      "\u001b[0m23:23:01  Unable to do partial parsing because a project config has changed\n",
      "\u001b[0m23:23:02  Found 45 models, 1 test, 17 sources, 0 exposures, 0 metrics, 489 macros, 0 groups, 0 semantic models\n",
      "\u001b[0m23:23:02  \n",
      "\u001b[0m23:23:05  Concurrency: 20 threads (target='dev')\n",
      "\u001b[0m23:23:05  \n",
      "\u001b[0m23:23:05  1 of 46 START sql dynamic_table model dl_bronze.brokerage_cash_transaction ..... [RUN]\n",
      "\u001b[0m23:23:05  2 of 46 START sql dynamic_table model dl_bronze.brokerage_daily_market ......... [RUN]\n",
      "\u001b[0m23:23:05  3 of 46 START sql dynamic_table model dl_bronze.brokerage_holding_history ...... [RUN]\n",
      "\u001b[0m23:23:05  4 of 46 START sql dynamic_table model dl_bronze.brokerage_trade ................ [RUN]\n",
      "\u001b[0m23:23:05  5 of 46 START sql dynamic_table model dl_bronze.brokerage_trade_history ........ [RUN]\n",
      "\u001b[0m23:23:05  6 of 46 START sql dynamic_table model dl_bronze.brokerage_watch_history ........ [RUN]\n",
      "\u001b[0m23:23:05  7 of 46 START sql dynamic_table model dl_bronze.crm_customer_mgmt .............. [RUN]\n",
      "\u001b[0m23:23:05  8 of 46 START sql dynamic_table model dl_bronze.finwire_company ................ [RUN]\n",
      "\u001b[0m23:23:05  9 of 46 START sql dynamic_table model dl_bronze.finwire_financial .............. [RUN]\n",
      "\u001b[0m23:23:05  10 of 46 START sql dynamic_table model dl_bronze.finwire_security .............. [RUN]\n",
      "\u001b[0m23:23:05  11 of 46 START sql dynamic_table model dl_bronze.hr_employee ................... [RUN]\n",
      "\u001b[0m23:23:05  12 of 46 START sql dynamic_table model dl_bronze.reference_date ................ [RUN]\n",
      "\u001b[0m23:23:05  13 of 46 START sql dynamic_table model dl_bronze.reference_industry ............ [RUN]\n",
      "\u001b[0m23:23:05  14 of 46 START sql dynamic_table model dl_bronze.reference_status_type ......... [RUN]\n",
      "\u001b[0m23:23:05  15 of 46 START sql dynamic_table model dl_bronze.reference_tax_rate ............ [RUN]\n",
      "\u001b[0m23:23:05  16 of 46 START sql dynamic_table model dl_bronze.reference_trade_type .......... [RUN]\n",
      "\u001b[0m23:23:05  17 of 46 START sql dynamic_table model dl_bronze.syndicated_prospect ........... [RUN]\n",
      "\u001b[0m23:23:07  13 of 46 OK created sql dynamic_table model dl_bronze.reference_industry ....... [\u001b[32mSUCCESS 1\u001b[0m in 2.32s]\n",
      "\u001b[0m23:23:07  15 of 46 OK created sql dynamic_table model dl_bronze.reference_tax_rate ....... [\u001b[32mSUCCESS 1\u001b[0m in 2.33s]\n",
      "\u001b[0m23:23:07  16 of 46 OK created sql dynamic_table model dl_bronze.reference_trade_type ..... [\u001b[32mSUCCESS 1\u001b[0m in 2.80s]\n",
      "\u001b[0m23:23:07  12 of 46 OK created sql dynamic_table model dl_bronze.reference_date ........... [\u001b[32mSUCCESS 1\u001b[0m in 2.83s]\n",
      "\u001b[0m23:23:07  18 of 46 START sql dynamic_table model dl_silver.date .......................... [RUN]\n",
      "\u001b[0m23:23:08  14 of 46 OK created sql dynamic_table model dl_bronze.reference_status_type .... [\u001b[32mSUCCESS 1\u001b[0m in 3.18s]\n",
      "\u001b[0m23:23:08  8 of 46 OK created sql dynamic_table model dl_bronze.finwire_company ........... [\u001b[32mSUCCESS 1\u001b[0m in 3.65s]\n",
      "\u001b[0m23:23:08  10 of 46 OK created sql dynamic_table model dl_bronze.finwire_security ......... [\u001b[32mSUCCESS 1\u001b[0m in 3.65s]\n",
      "\u001b[0m23:23:08  19 of 46 START sql dynamic_table model dl_silver.companies ..................... [RUN]\n",
      "\u001b[0m23:23:09  9 of 46 OK created sql dynamic_table model dl_bronze.finwire_financial ......... [\u001b[32mSUCCESS 1\u001b[0m in 4.21s]\n",
      "\u001b[0m23:23:09  7 of 46 OK created sql dynamic_table model dl_bronze.crm_customer_mgmt ......... [\u001b[32mSUCCESS 1\u001b[0m in 4.24s]\n",
      "\u001b[0m23:23:09  20 of 46 START sql dynamic_table model dl_silver.accounts ...................... [RUN]\n",
      "\u001b[0m23:23:09  21 of 46 START sql dynamic_table model dl_silver.customers ..................... [RUN]\n",
      "\u001b[0m23:23:09  17 of 46 OK created sql dynamic_table model dl_bronze.syndicated_prospect ...... [\u001b[32mSUCCESS 1\u001b[0m in 4.78s]\n",
      "\u001b[0m23:23:10  11 of 46 OK created sql dynamic_table model dl_bronze.hr_employee .............. [\u001b[32mSUCCESS 1\u001b[0m in 5.18s]\n",
      "\u001b[0m23:23:10  22 of 46 START sql dynamic_table model dl_silver.employees ..................... [RUN]\n",
      "\u001b[0m23:23:11  18 of 46 OK created sql dynamic_table model dl_silver.date ..................... [\u001b[32mSUCCESS 1\u001b[0m in 3.19s]\n",
      "\u001b[0m23:23:11  23 of 46 START sql dynamic_table model dl_gold.dim_date ........................ [RUN]\n",
      "\u001b[0m23:23:12  19 of 46 OK created sql dynamic_table model dl_silver.companies ................ [\u001b[32mSUCCESS 1\u001b[0m in 3.63s]\n",
      "\u001b[0m23:23:12  24 of 46 START sql dynamic_table model dl_gold.dim_company ..................... [RUN]\n",
      "\u001b[0m23:23:12  25 of 46 START sql dynamic_table model dl_silver.financials .................... [RUN]\n",
      "\u001b[0m23:23:12  26 of 46 START sql dynamic_table model dl_silver.securities .................... [RUN]\n",
      "\u001b[0m23:23:12  1 of 46 OK created sql dynamic_table model dl_bronze.brokerage_cash_transaction  [\u001b[32mSUCCESS 1\u001b[0m in 7.50s]\n",
      "\u001b[0m23:23:13  20 of 46 OK created sql dynamic_table model dl_silver.accounts ................. [\u001b[32mSUCCESS 1\u001b[0m in 3.60s]\n",
      "\u001b[0m23:23:13  27 of 46 START sql dynamic_table model dl_silver.cash_transactions ............. [RUN]\n",
      "\u001b[0m23:23:13  3 of 46 OK created sql dynamic_table model dl_bronze.brokerage_holding_history . [\u001b[32mSUCCESS 1\u001b[0m in 8.55s]\n",
      "\u001b[0m23:23:13  21 of 46 OK created sql dynamic_table model dl_silver.customers ................ [\u001b[32mSUCCESS 1\u001b[0m in 4.42s]\n",
      "\u001b[0m23:23:13  28 of 46 START sql dynamic_table model dl_gold.dim_customer .................... [RUN]\n",
      "\u001b[0m23:23:14  22 of 46 OK created sql dynamic_table model dl_silver.employees ................ [\u001b[32mSUCCESS 1\u001b[0m in 3.77s]\n",
      "\u001b[0m23:23:14  29 of 46 START sql dynamic_table model dl_gold.dim_broker ...................... [RUN]\n",
      "\u001b[0m23:23:14  23 of 46 OK created sql dynamic_table model dl_gold.dim_date ................... [\u001b[32mSUCCESS 1\u001b[0m in 3.80s]\n",
      "\u001b[0m23:23:16  4 of 46 OK created sql dynamic_table model dl_bronze.brokerage_trade ........... [\u001b[32mSUCCESS 1\u001b[0m in 10.88s]\n",
      "\u001b[0m23:23:16  5 of 46 OK created sql dynamic_table model dl_bronze.brokerage_trade_history ... [\u001b[32mSUCCESS 1\u001b[0m in 10.92s]\n",
      "\u001b[0m23:23:16  30 of 46 START sql dynamic_table model dl_silver.trades_history ................ [RUN]\n",
      "\u001b[0m23:23:16  6 of 46 OK created sql dynamic_table model dl_bronze.brokerage_watch_history ... [\u001b[32mSUCCESS 1\u001b[0m in 10.97s]\n",
      "\u001b[0m23:23:17  24 of 46 OK created sql dynamic_table model dl_gold.dim_company ................ [\u001b[32mSUCCESS 1\u001b[0m in 5.28s]\n",
      "\u001b[0m23:23:18  29 of 46 OK created sql dynamic_table model dl_gold.dim_broker ................. [\u001b[32mSUCCESS 1\u001b[0m in 3.89s]\n",
      "\u001b[0m23:23:18  26 of 46 OK created sql dynamic_table model dl_silver.securities ............... [\u001b[32mSUCCESS 1\u001b[0m in 6.02s]\n",
      "\u001b[0m23:23:18  31 of 46 START sql dynamic_table model dl_gold.dim_security .................... [RUN]\n",
      "\u001b[0m23:23:18  32 of 46 START sql dynamic_table model dl_silver.watches_history ............... [RUN]\n",
      "\u001b[0m23:23:18  2 of 46 OK created sql dynamic_table model dl_bronze.brokerage_daily_market .... [\u001b[32mSUCCESS 1\u001b[0m in 13.48s]\n",
      "\u001b[0m23:23:18  33 of 46 START sql dynamic_table model dl_silver.daily_market .................. [RUN]\n",
      "\u001b[0m23:23:19  27 of 46 OK created sql dynamic_table model dl_silver.cash_transactions ........ [\u001b[32mSUCCESS 1\u001b[0m in 6.49s]\n",
      "\u001b[0m23:23:19  28 of 46 OK created sql dynamic_table model dl_gold.dim_customer ............... [\u001b[32mSUCCESS 1\u001b[0m in 5.68s]\n",
      "\u001b[0m23:23:19  34 of 46 START sql dynamic_table model dl_gold.dim_account ..................... [RUN]\n",
      "\u001b[0m23:23:19  25 of 46 OK created sql dynamic_table model dl_silver.financials ............... [\u001b[32mSUCCESS 1\u001b[0m in 7.22s]\n",
      "\u001b[0m23:23:19  35 of 46 START sql dynamic_table model dl_work.wrk_company_financials .......... [RUN]\n",
      "\u001b[0m23:23:25  31 of 46 OK created sql dynamic_table model dl_gold.dim_security ............... [\u001b[32mSUCCESS 1\u001b[0m in 6.70s]\n",
      "\u001b[0m23:23:26  35 of 46 OK created sql dynamic_table model dl_work.wrk_company_financials ..... [\u001b[32mSUCCESS 1\u001b[0m in 6.53s]\n",
      "\u001b[0m23:23:26  34 of 46 OK created sql dynamic_table model dl_gold.dim_account ................ [\u001b[32mSUCCESS 1\u001b[0m in 6.82s]\n",
      "\u001b[0m23:23:26  36 of 46 START sql dynamic_table model dl_gold.fact_cash_transactions .......... [RUN]\n",
      "\u001b[0m23:23:27  33 of 46 OK created sql dynamic_table model dl_silver.daily_market ............. [\u001b[32mSUCCESS 1\u001b[0m in 8.92s]\n",
      "\u001b[0m23:23:27  37 of 46 START sql dynamic_table model dl_gold.fact_market_history ............. [RUN]\n",
      "\u001b[0m23:23:27  32 of 46 OK created sql dynamic_table model dl_silver.watches_history .......... [\u001b[32mSUCCESS 1\u001b[0m in 9.08s]\n",
      "\u001b[0m23:23:27  38 of 46 START sql dynamic_table model dl_silver.watches ....................... [RUN]\n",
      "\u001b[0m23:23:28  30 of 46 OK created sql dynamic_table model dl_silver.trades_history ........... [\u001b[32mSUCCESS 1\u001b[0m in 12.78s]\n",
      "\u001b[0m23:23:28  39 of 46 START sql dynamic_table model dl_gold.dim_trade ....................... [RUN]\n",
      "\u001b[0m23:23:28  40 of 46 START sql dynamic_table model dl_silver.trades ........................ [RUN]\n",
      "\u001b[0m23:23:33  36 of 46 OK created sql dynamic_table model dl_gold.fact_cash_transactions ..... [\u001b[32mSUCCESS 1\u001b[0m in 7.36s]\n",
      "\u001b[0m23:23:33  41 of 46 START sql dynamic_table model dl_gold.fact_cash_balances .............. [RUN]\n",
      "\u001b[0m23:23:34  38 of 46 OK created sql dynamic_table model dl_silver.watches .................. [\u001b[32mSUCCESS 1\u001b[0m in 7.30s]\n",
      "\u001b[0m23:23:34  42 of 46 START sql dynamic_table model dl_gold.fact_watches .................... [RUN]\n",
      "\u001b[0m23:23:35  39 of 46 OK created sql dynamic_table model dl_gold.dim_trade .................. [\u001b[32mSUCCESS 1\u001b[0m in 6.84s]\n",
      "\u001b[0m23:23:40  40 of 46 OK created sql dynamic_table model dl_silver.trades ................... [\u001b[32mSUCCESS 1\u001b[0m in 11.45s]\n",
      "\u001b[0m23:23:40  43 of 46 START sql dynamic_table model dl_silver.holdings_history .............. [RUN]\n",
      "\u001b[0m23:23:40  44 of 46 START sql dynamic_table model dl_gold.fact_trade ...................... [RUN]\n",
      "\u001b[0m23:23:43  42 of 46 OK created sql dynamic_table model dl_gold.fact_watches ............... [\u001b[32mSUCCESS 1\u001b[0m in 9.08s]\n",
      "\u001b[0m23:23:45  41 of 46 OK created sql dynamic_table model dl_gold.fact_cash_balances ......... [\u001b[32mSUCCESS 1\u001b[0m in 12.18s]\n",
      "\u001b[0m23:23:49  43 of 46 OK created sql dynamic_table model dl_silver.holdings_history ......... [\u001b[32mSUCCESS 1\u001b[0m in 9.64s]\n",
      "\u001b[0m23:23:49  45 of 46 START sql dynamic_table model dl_gold.fact_holdings ................... [RUN]\n",
      "\u001b[0m23:24:01  44 of 46 OK created sql dynamic_table model dl_gold.fact_trade ................. [\u001b[32mSUCCESS 1\u001b[0m in 21.67s]\n",
      "\u001b[0m23:24:02  46 of 46 START test fact_trade__unique_trade ................................... [RUN]\n",
      "\u001b[0m23:24:03  46 of 46 PASS fact_trade__unique_trade ......................................... [\u001b[32mPASS\u001b[0m in 1.19s]\n",
      "\u001b[0m23:24:03  45 of 46 OK created sql dynamic_table model dl_gold.fact_holdings .............. [\u001b[32mSUCCESS 1\u001b[0m in 13.67s]\n",
      "\u001b[0m23:24:45  37 of 46 OK created sql dynamic_table model dl_gold.fact_market_history ........ [\u001b[32mSUCCESS 1\u001b[0m in 77.48s]\n",
      "\u001b[0m23:24:45  \n",
      "\u001b[0m23:24:45  Finished running 45 dynamic_table models, 1 test in 0 hours 1 minutes and 42.82 seconds (102.82s).\n",
      "\u001b[0m23:24:45  \n",
      "\u001b[0m23:24:45  \u001b[32mCompleted successfully\u001b[0m\n",
      "\u001b[0m23:24:45  \n",
      "\u001b[0m23:24:45  Done. PASS=46 WARN=0 ERROR=0 SKIP=0 TOTAL=46\n"
     ]
    }
   ],
   "source": [
    "!dbt build"
   ]
  },
  {
   "cell_type": "markdown",
   "id": "3f5c05ca-a924-4549-ba19-d5fa61df5434",
   "metadata": {},
   "source": [
    "Click this link to open results:\n",
    "\n",
    "[Snowflake UI](https://app.snowflake.com/cxmdykz/hib36835/#/data/databases/TPCDI_DT)"
   ]
  },
  {
   "cell_type": "markdown",
   "id": "3eb79852",
   "metadata": {},
   "source": [
    "# dbt also has Tests.\n",
    "\n",
    "# We can run them when we create the Dynamic Table:"
   ]
  },
  {
   "cell_type": "code",
   "execution_count": 30,
   "id": "a62811a9",
   "metadata": {
    "tags": []
   },
   "outputs": [
    {
     "name": "stdout",
     "output_type": "stream",
     "text": [
      "\u001b[0m23:28:07  Running with dbt=1.6.6\n",
      "\u001b[0m23:28:08  Registered adapter: snowflake=1.6.4\n",
      "\u001b[0m23:28:08  Found 45 models, 1 test, 17 sources, 0 exposures, 0 metrics, 489 macros, 0 groups, 0 semantic models\n",
      "\u001b[0m23:28:08  \n",
      "\u001b[0m23:28:10  Concurrency: 20 threads (target='dev')\n",
      "\u001b[0m23:28:10  \n",
      "\u001b[0m23:28:10  1 of 2 START sql dynamic_table model dl_gold.fact_trade ........................ [RUN]\n",
      "\u001b[0m23:28:12  1 of 2 OK created sql dynamic_table model dl_gold.fact_trade ................... [\u001b[32mSUCCESS 1\u001b[0m in 2.19s]\n",
      "\u001b[0m23:28:12  2 of 2 START test fact_trade__unique_trade ..................................... [RUN]\n",
      "\u001b[0m23:28:12  2 of 2 PASS fact_trade__unique_trade ........................................... [\u001b[32mPASS\u001b[0m in 0.66s]\n",
      "\u001b[0m23:28:12  \n",
      "\u001b[0m23:28:12  Finished running 1 dynamic_table model, 1 test in 0 hours 0 minutes and 4.60 seconds (4.60s).\n",
      "\u001b[0m23:28:12  \n",
      "\u001b[0m23:28:12  \u001b[32mCompleted successfully\u001b[0m\n",
      "\u001b[0m23:28:12  \n",
      "\u001b[0m23:28:12  Done. PASS=2 WARN=0 ERROR=0 SKIP=0 TOTAL=2\n"
     ]
    }
   ],
   "source": [
    "!dbt build --select fact_trade"
   ]
  },
  {
   "cell_type": "markdown",
   "id": "d564eded",
   "metadata": {},
   "source": [
    "# Or we can schedule them to run periodically:"
   ]
  },
  {
   "cell_type": "code",
   "execution_count": 31,
   "id": "cf40309e",
   "metadata": {
    "tags": []
   },
   "outputs": [
    {
     "name": "stdout",
     "output_type": "stream",
     "text": [
      "\u001b[0m23:29:18  Running with dbt=1.6.6\n",
      "\u001b[0m23:29:18  Registered adapter: snowflake=1.6.4\n",
      "\u001b[0m23:29:19  Found 45 models, 1 test, 17 sources, 0 exposures, 0 metrics, 489 macros, 0 groups, 0 semantic models\n",
      "\u001b[0m23:29:19  \n",
      "\u001b[0m23:29:19  Concurrency: 20 threads (target='dev')\n",
      "\u001b[0m23:29:19  \n",
      "\u001b[0m23:29:19  1 of 1 START test fact_trade__unique_trade ..................................... [RUN]\n",
      "\u001b[0m23:29:20  1 of 1 PASS fact_trade__unique_trade ........................................... [\u001b[32mPASS\u001b[0m in 0.57s]\n",
      "\u001b[0m23:29:20  \n",
      "\u001b[0m23:29:20  Finished running 1 test in 0 hours 0 minutes and 1.29 seconds (1.29s).\n",
      "\u001b[0m23:29:20  \n",
      "\u001b[0m23:29:20  \u001b[32mCompleted successfully\u001b[0m\n",
      "\u001b[0m23:29:20  \n",
      "\u001b[0m23:29:20  Done. PASS=1 WARN=0 ERROR=0 SKIP=0 TOTAL=1\n"
     ]
    }
   ],
   "source": [
    "!dbt test"
   ]
  },
  {
   "cell_type": "markdown",
   "id": "ac3f442b",
   "metadata": {},
   "source": [
    "# dbt Cloud will need to be more than just a job scheduler, which it already is.\n",
    "\n",
    "1. Cloud development environment for those that prefer it (Needs to get better).\n",
    "1. CI/CD workflows for promoting Dynamic Table changes into Production.\n",
    "1. Perhaps there's promise in the Semantic Layer."
   ]
  },
  {
   "cell_type": "markdown",
   "id": "22101a49",
   "metadata": {},
   "source": [
    "# Clean-up"
   ]
  },
  {
   "cell_type": "code",
   "execution_count": 1,
   "id": "3c6a912a",
   "metadata": {
    "tags": []
   },
   "outputs": [
    {
     "name": "stdout",
     "output_type": "stream",
     "text": [
      "Schema dl_gold dropped.\n",
      "Schema dl_silver dropped.\n",
      "Schema dl_bronze dropped.\n",
      "Schema dl_work dropped.\n"
     ]
    }
   ],
   "source": [
    "!python tpcdi.py drop-schema --schema dl_gold\n",
    "!python tpcdi.py drop-schema --schema dl_silver\n",
    "!python tpcdi.py drop-schema --schema dl_bronze\n",
    "!python tpcdi.py drop-schema --schema dl_work"
   ]
  }
 ],
 "metadata": {
  "kernelspec": {
   "display_name": "Python 3 (ipykernel)",
   "language": "python",
   "name": "python3"
  },
  "language_info": {
   "codemirror_mode": {
    "name": "ipython",
    "version": 3
   },
   "file_extension": ".py",
   "mimetype": "text/x-python",
   "name": "python",
   "nbconvert_exporter": "python",
   "pygments_lexer": "ipython3",
   "version": "3.8.17"
  }
 },
 "nbformat": 4,
 "nbformat_minor": 5
}
